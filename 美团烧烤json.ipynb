{
 "cells": [
  {
   "cell_type": "code",
   "execution_count": 2,
   "metadata": {
    "collapsed": true
   },
   "outputs": [
    {
     "ename": "IndentationError",
     "evalue": "unindent does not match any outer indentation level (<tokenize>, line 25)",
     "output_type": "error",
     "traceback": [
      "\u001B[1;36m  File \u001B[1;32m\"<tokenize>\"\u001B[1;36m, line \u001B[1;32m25\u001B[0m\n\u001B[1;33m    titles = re.findall('\",\"title\":\"(.*?)\",\"address\":\"', response.text)\u001B[0m\n\u001B[1;37m    ^\u001B[0m\n\u001B[1;31mIndentationError\u001B[0m\u001B[1;31m:\u001B[0m unindent does not match any outer indentation level\n"
     ]
    }
   ],
   "source": [
    "import requests\n",
    "import re\n",
    "\n",
    "\n",
    "def start():\n",
    "    for w in range(0, 1600, 32):\n",
    "    #页码根据实际情况x32即可，我这里是设置50页为上限，为了避免设置页码过高或者数据过少情况，定义最大上限为1600-也就是50页，使用try-except来检测时候异常，异常跳过该页，一般作为无数据跳过该页处理\n",
    "        try:\n",
    "        # 注意uuid后面参数空余将uuid后xxx替换为自己的uuid参数\n",
    "            url = 'https://apimobile.meituan.com/group/v4/poi/pcsearch/1?uuid=xxx&userid=-1&limit=32&offset='+str(w)+'&cateId=-1&q=%E7%81%AB%E9%94%85'\n",
    "            #headers的数据可以在F12开发者工具下面的requests_headers中查看，需要实现选择如下headers信息\n",
    "            #必要情况  请求频繁 建议增加cookie参数在headers内\n",
    "            headers = {\n",
    "                'Accept': '*/*',\n",
    "                'Accept-Encoding': 'gzip, deflate, br',\n",
    "                'Accept-Language': 'zh-CN,zh;q=0.9',\n",
    "                'Connection': 'keep-alive',\n",
    "                'User-Agent': 'Mozilla/5.0 (Windows NT 10.0; WOW64) AppleWebKit/537.36 (KHTML, like Gecko) Chrome/70.0.3538.25 Safari/537.36 Core/1.70.3741.400 QQBrowser/10.5.3863.400',\n",
    "                'Host': 'apimobile.meituan.com',\n",
    "                'Origin': 'https://bj.meituan.com',\n",
    "                'Referer': 'https://bj.meituan.com/s/%E7%81%AB%E9%94%85/'\n",
    "            }\n",
    "            response = requests.get(url, headers=headers)\n",
    "            #正则获取当前响应内容中的数据，因json方法无法针对店铺特有的title键值进行获取没所以采用正则\n",
    "         titles = re.findall('\",\"title\":\"(.*?)\",\"address\":\"', response.text)\n",
    "         addresses = re.findall(',\"address\":\"(.*?)\",', response.text)\n",
    "         avgprices = re.findall(',\"avgprice\":(.*?),', response.text)\n",
    "         avgscores = re.findall(',\"avgscore\":(.*?),',response.text)\n",
    "         comments = re.findall(',\"comments\":(.*?),',response.text)\n",
    "         #输出当前返回数据的长度  是否为32\n",
    "         print(len(titles), len(addresses), len(avgprices), len(avgscores), len(comments))\n",
    "         for o in range(len(titles)):\n",
    "         #循环遍历每一个值  写入文件中\n",
    "             title = titles[o]\n",
    "             address = addresses[o]\n",
    "             avgprice = avgprices[o]\n",
    "             avgscore = avgscores[o]\n",
    "             comment = comments[o]\n",
    "             #写入本地文件\n",
    "             file_data(title, address, avgprice, avgscore, comment)\n",
    "\n",
    "#文件写入方法\n",
    "def file_data(title, address, avgprice, avgscore, comment):\n",
    "    data = {\n",
    "                '店铺名称': title,\n",
    "                '店铺地址': address,\n",
    "                '平均消费价格': avgprice,\n",
    "                '店铺评分': avgscore,\n",
    "                '评价人数': comment\n",
    "            }\n",
    "    with open('美团美食.txt', 'a', encoding='utf-8')as fb:\n",
    "        fb.write(json.dumps(data, ensure_ascii=False) + '\\n')\n",
    "        #ensure_ascii=False必须加因为json.dumps方法不关闭转码会导致出现乱码情况\n",
    "if __name__ == '__main__':\n",
    "    start()"
   ]
  },
  {
   "cell_type": "code",
   "execution_count": 5,
   "outputs": [],
   "source": [
    "def start():\n",
    "    for w in range(0, 1600, 32):\n",
    "        try:\n",
    "            url = 'https://apimobile.meituan.com/group/v4/poi/pcsearch/1?uuid=xxx&userid=-1&limit=32&offset='+str(w)+'&cateId=-1&q=%E7%81%AB%E9%94%85'\n",
    "            headers = {\n",
    "                'Accept': '*/*',\n",
    "                'Accept-Encoding': 'gzip, deflate, br',\n",
    "                'Accept-Language': 'zh-CN,zh;q=0.9',\n",
    "                'Connection': 'keep-alive',\n",
    "                'User-Agent': 'Mozilla/5.0 (Windows NT 10.0; WOW64) AppleWebKit/537.36 (KHTML, like Gecko) Chrome/58.0.3029.110 Safari/537.36 SE 2.X MetaSr 1.0'\n",
    "            }\n",
    "            response = requests.get(url, headers=headers)\n",
    "            titles = re.findall('\",\"title\":\"(.*?)\",\"address\":\"', response.text)\n",
    "            addresses = re.findall(',\"address\":\"(.*?)\",', response.text)\n",
    "            avgprices = re.findall(',\"avgprice\":(.*?),', response.text)\n",
    "            avgscores = re.findall(',\"avgscore\":(.*?),',response.text)\n",
    "            comments = re.findall(',\"comments\":(.*?),',response.text)\n",
    "            print(len(titles), len(addresses), len(avgprices), len(avgscores), len(comments))\n",
    "            for o in range(len(titles)):\n",
    "                title = titles[o]\n",
    "                address = addresses[o]\n",
    "                avgprice = avgprices[o]\n",
    "                avgscore = avgscores[o]\n",
    "                #写入本地文件\n",
    "                file_data(title, address, avgprice, avgscore, comment)\n",
    "\n",
    "        except:\n",
    "            continue\n",
    "#文件写入方法\n",
    "def file_data(title, address, avgprice, avgscore, comment):\n",
    "    data = {\n",
    "                '店铺名称': title,\n",
    "                '店铺地址': address,\n",
    "                '平均消费价格': avgprice,\n",
    "                '店铺评分': avgscore,\n",
    "                '评价人数': comment\n",
    "            }\n",
    "    with open('美团美食.txt', 'a', encoding='utf-8')as fb:\n",
    "        fb.write(json.dumps(data, ensure_ascii=False) + '\\n')\n",
    "        #ensure_ascii=False必须加因为json.dumps方法不关闭转码会导致出现乱码情况\n",
    "if __name__ == '__main__':\n",
    "    start()"
   ],
   "metadata": {
    "collapsed": false
   }
  },
  {
   "cell_type": "code",
   "execution_count": null,
   "outputs": [],
   "source": [],
   "metadata": {
    "collapsed": false
   }
  }
 ],
 "metadata": {
  "kernelspec": {
   "display_name": "Python 3",
   "language": "python",
   "name": "python3"
  },
  "language_info": {
   "codemirror_mode": {
    "name": "ipython",
    "version": 2
   },
   "file_extension": ".py",
   "mimetype": "text/x-python",
   "name": "python",
   "nbconvert_exporter": "python",
   "pygments_lexer": "ipython2",
   "version": "2.7.6"
  }
 },
 "nbformat": 4,
 "nbformat_minor": 0
}
